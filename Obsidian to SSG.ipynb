{
 "cells": [
  {
   "cell_type": "code",
   "execution_count": 1,
   "id": "e2006a85-20ed-4150-9338-a005f8047933",
   "metadata": {},
   "outputs": [
    {
     "data": {
      "text/plain": [
       "\"Well, that's a mouthful of a title.\\n\\nBut yeah, I've been wanting to streamline my publishing process for these daily blog posts, and  I thought it would be a good way to practice writing a simple Ruby automation.\\n\\nI've long been jealous of python users and their Jupyter Notebooks, which seem so good for experimenting and iteratively building something where you don't really know how it's going to all come together.\\n\\nTurns out, there's a plugin to use Ruby in Jupyter!\\n\\nI used it for making an automation script to publish these posts, so that I can use obsidian for writing, and then my SSG for publishing.\\n\\nThis is nice because one of the most annoying parts of writing a post in my SSG flow is images. I have to move the images I want to use into finder, decide on a name, and then type out the path to that image file in my post.\\n\\nObsidian makes it easy to upload photos - just drag and drop - and my script copies the photos for you!\\n\\nThere are other things that I can add to the script to make it better, such as handling links, but for now it's good enough.\\n\\n\""
      ]
     },
     "execution_count": 1,
     "metadata": {},
     "output_type": "execute_result"
    }
   ],
   "source": [
    "# This is the obsidian post which serves as the source\n",
    "obsidian_path = Pathname'/Users/pooria/Library/Mobile Documents/com~apple~CloudDocs/Brain2'\n",
    "obsidian_post = obsidian_path + 'Starting a dopamine detox.md'\n",
    "obsidian_post_content = obsidian_post.read"
   ]
  },
  {
   "cell_type": "code",
   "execution_count": 19,
   "id": "c3c8ea08-b696-44c4-885d-84c6432b09cc",
   "metadata": {},
   "outputs": [
    {
     "data": {
      "text/plain": [
       "[\"CleanShot 2023-10-17 at 17.24.52@2x.png\"]"
      ]
     },
     "execution_count": 19,
     "metadata": {},
     "output_type": "execute_result"
    }
   ],
   "source": [
    "obsidian_image_regex = /!\\[\\[(.*?)\\]\\]/\n",
    "obsidian_post_images = obsidian_post_content.scan obsidian_image_regex\n",
    "obsidian_post_images.flatten!"
   ]
  },
  {
   "cell_type": "code",
   "execution_count": 20,
   "id": "d0c8e4a7-836d-4270-8cce-6954aa6f30b1",
   "metadata": {},
   "outputs": [
    {
     "data": {
      "text/plain": [
       "[\"/Users/pooria/Library/Mobile Documents/com~apple~CloudDocs/Brain2/CleanShot 2023-10-17 at 17.24.52@2x.png\"]"
      ]
     },
     "execution_count": 20,
     "metadata": {},
     "output_type": "execute_result"
    }
   ],
   "source": [
    "obsidian_post_image_paths = obsidian_post_images.map do |image|\n",
    "    \"#{obsidian_path}/#{image}\"\n",
    "end"
   ]
  },
  {
   "cell_type": "code",
   "execution_count": 21,
   "id": "7de6edbe-b1aa-44ba-ac22-bfa6393fe349",
   "metadata": {},
   "outputs": [
    {
     "data": {
      "text/plain": [
       "[\"/Users/pooria/Projects/Kian Pak/kianpak/src/images/CleanShot 2023-10-17 at 17.24.52@2x.png\"]"
      ]
     },
     "execution_count": 21,
     "metadata": {},
     "output_type": "execute_result"
    }
   ],
   "source": [
    "blog_images_path = '/Users/pooria/Projects/Kian Pak/kianpak/src/images/'\n",
    "blog_images_path_relative = '/images/'\n",
    "blog_image_paths = obsidian_post_images.map do |filename|\n",
    "    \"#{blog_images_path}#{filename}\"\n",
    "end"
   ]
  },
  {
   "cell_type": "code",
   "execution_count": 22,
   "id": "d23792d3-37a4-40f7-8628-f790e94bd747",
   "metadata": {},
   "outputs": [
    {
     "data": {
      "text/plain": [
       "[[\"/Users/pooria/Library/Mobile Documents/com~apple~CloudDocs/Brain2/CleanShot 2023-10-17 at 17.24.52@2x.png\", \"/Users/pooria/Projects/Kian Pak/kianpak/src/images/CleanShot 2023-10-17 at 17.24.52@2x.png\"]]"
      ]
     },
     "execution_count": 22,
     "metadata": {},
     "output_type": "execute_result"
    }
   ],
   "source": [
    "# Copy the images from source to destination\n",
    "images_source = obsidian_post_image_paths\n",
    "images_dest = blog_image_paths\n",
    "zipped = images_source.zip images_dest\n",
    "\n",
    "zipped.each do |source, dest|\n",
    "    File.write(dest, File.read(source))\n",
    "end"
   ]
  },
  {
   "cell_type": "code",
   "execution_count": 23,
   "id": "9d876699-f250-49c9-b5df-fabcce2c6a06",
   "metadata": {},
   "outputs": [
    {
     "data": {
      "text/plain": [
       "\"---\\ntitle: Die Joe Boo\\n---\\nI keep hearing people in Japan say something that sounds like \\\"Die Joe Boo\\\", except all together as one word like \\\"DieJoeBoo\\\".\\n\\nI don't know what it means, but apparently it's useful, so I want to figure it out. \\n\\nBut rather than try to google it (lame) I want to try to learn it from a random Japanese person.\\n\\nLater, I'm sitting on a bench next to two Japanese girls chatting away, and I remember - DieJoeBoo.\\n\\nSo I ask them if they speak English - they say just a little - so I ask them:\\n\\n\\\"This word, DieJoeBoo, what does it mean?\\\"\\n\\nThey are instantly confused.\\n\\nI repeat the word a few times, trying different pronunciations. They are trying to understand me, and they keep repeating my words back to me in a confused tone.\\n\\nDid I remember the word wrong? I bust out Google Translate and convey this message:\\n\\n\\\"I think that's a Japanese word I keep hearing people say. Do you know what it means?\\\"\\n\\nThey read the translation but their faces show they're still baffled. I don't think we're going to figure this out, but they're going back and forth trying to put together a response in their translator.\\n\\nI type another message into the translator: \\\"It's ok, don't worry about it\\\"\\n\\nThe translation processes, and suddenly I see it - Daijobu!\\n![](/images/CleanShot 2023-10-17 at 17.24.52@2x.png)\\nSo it means \\\"It's OK\\\"!\\n\\nI show the girls and suddenly everything makes sense. They start saying \\\"Aaah Daijobu, Daijobu\\\"\\n\\nAnd I just laugh, because I swear I've been saying it 99% similar to them.\""
      ]
     },
     "execution_count": 23,
     "metadata": {},
     "output_type": "execute_result"
    }
   ],
   "source": [
    "original_content = File.read(obsidian_post)\n",
    "original_name = obsidian_post.basename('.*')\n",
    "transformed_content = original_content.gsub(obsidian_image_regex,\"![](#{blog_images_path_relative + '\\1'})\")\n",
    "transformed_content.prepend \"---\\ntitle: #{original_name}\\n---\\n\""
   ]
  },
  {
   "cell_type": "code",
   "execution_count": 24,
   "id": "2bc2bd45-39a9-444c-b586-6e4dd12c6cf6",
   "metadata": {},
   "outputs": [
    {
     "data": {
      "text/plain": [
       "Tue, 17 Oct 2023"
      ]
     },
     "execution_count": 24,
     "metadata": {},
     "output_type": "execute_result"
    }
   ],
   "source": [
    "require 'front_matter_parser'\n",
    "require 'Date'\n",
    "require 'active_support/all'\n",
    "parsed = FrontMatterParser::Parser.parse_file(\n",
    "    obsidian_post,\n",
    "    loader: FrontMatterParser::Loader::Yaml.new(allowlist_classes: [Date])\n",
    ")\n",
    "date = parsed.front_matter[\"date\"] || Date.today"
   ]
  },
  {
   "cell_type": "code",
   "execution_count": 25,
   "id": "e04d29bc-2db6-468f-ba90-027d5666f1f3",
   "metadata": {},
   "outputs": [
    {
     "data": {
      "text/plain": [
       "\"/Users/pooria/Projects/Kian Pak/kianpak/src/_posts/2023-10-17-die-joe-boo.md\""
      ]
     },
     "execution_count": 25,
     "metadata": {},
     "output_type": "execute_result"
    }
   ],
   "source": [
    "blog_post_name = original_name.to_s.remove(/[^0-9|A-Z|a-z| ]/).parameterize + '.md'\n",
    "blog_post_path = \"/Users/pooria/Projects/Kian Pak/kianpak/src/_posts/#{date}-#{blog_post_name}\""
   ]
  },
  {
   "cell_type": "code",
   "execution_count": 26,
   "id": "2c15091c-2e7b-4bf1-a080-b0043a84b793",
   "metadata": {
    "scrolled": true
   },
   "outputs": [
    {
     "data": {
      "text/plain": [
       "1519"
      ]
     },
     "execution_count": 26,
     "metadata": {},
     "output_type": "execute_result"
    }
   ],
   "source": [
    "File.write(blog_post_path, transformed_content)"
   ]
  },
  {
   "cell_type": "code",
   "execution_count": 27,
   "id": "8eee4411-d5b6-41b6-8073-48e2821b9ed7",
   "metadata": {},
   "outputs": [
    {
     "data": {
      "text/plain": [
       "\"---\\ntitle: Die Joe Boo\\n---\\nI keep hearing people in Japan say something that sounds like \\\"Die Joe Boo\\\", except all together as one word like \\\"DieJoeBoo\\\".\\n\\nI don't know what it means, but apparently it's useful, so I want to figure it out. \\n\\nBut rather than try to google it (lame) I want to try to learn it from a random Japanese person.\\n\\nLater, I'm sitting on a bench next to two Japanese girls chatting away, and I remember - DieJoeBoo.\\n\\nSo I ask them if they speak English - they say just a little - so I ask them:\\n\\n\\\"This word, DieJoeBoo, what does it mean?\\\"\\n\\nThey are instantly confused.\\n\\nI repeat the word a few times, trying different pronunciations. They are trying to understand me, and they keep repeating my words back to me in a confused tone.\\n\\nDid I remember the word wrong? I bust out Google Translate and convey this message:\\n\\n\\\"I think that's a Japanese word I keep hearing people say. Do you know what it means?\\\"\\n\\nThey read the translation but their faces show they're still baffled. I don't think we're going to figure this out, but they're going back and forth trying to put together a response in their translator.\\n\\nI type another message into the translator: \\\"It's ok, don't worry about it\\\"\\n\\nThe translation processes, and suddenly I see it - Daijobu!\\n![](/images/CleanShot 2023-10-17 at 17.24.52@2x.png)\\nSo it means \\\"It's OK\\\"!\\n\\nI show the girls and suddenly everything makes sense. They start saying \\\"Aaah Daijobu, Daijobu\\\"\\n\\nAnd I just laugh, because I swear I've been saying it 99% similar to them.\""
      ]
     },
     "execution_count": 27,
     "metadata": {},
     "output_type": "execute_result"
    }
   ],
   "source": [
    "# This is the newly created blog post\n",
    "blog_post_contents = File.read blog_post_path"
   ]
  },
  {
   "cell_type": "code",
   "execution_count": null,
   "id": "e7269902-51a4-403c-8683-18f20cb53ea0",
   "metadata": {},
   "outputs": [],
   "source": []
  }
 ],
 "metadata": {
  "kernelspec": {
   "display_name": "Ruby 2.7.5",
   "language": "ruby",
   "name": "ruby"
  },
  "language_info": {
   "file_extension": ".rb",
   "mimetype": "application/x-ruby",
   "name": "ruby",
   "version": "2.7.5"
  }
 },
 "nbformat": 4,
 "nbformat_minor": 5
}
